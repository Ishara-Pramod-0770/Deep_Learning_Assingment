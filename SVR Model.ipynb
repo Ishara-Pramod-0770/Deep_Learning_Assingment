{
 "cells": [
  {
   "cell_type": "code",
   "execution_count": 1,
   "id": "699b68f7-2137-49db-b421-df0e21df8f1f",
   "metadata": {},
   "outputs": [],
   "source": [
    "#Import Libraries"
   ]
  },
  {
   "cell_type": "code",
   "execution_count": 2,
   "id": "7e4e955a-e58b-422c-8cba-04b3752f47bc",
   "metadata": {},
   "outputs": [],
   "source": [
    "import pandas as pd\n",
    "import numpy as np\n",
    "from sklearn.svm import SVR\n",
    "from sklearn.model_selection import train_test_split\n",
    "from sklearn.preprocessing import StandardScaler\n",
    "from sklearn.metrics import mean_squared_error, r2_score\n",
    "import matplotlib.pyplot as plt\n",
    "import seaborn as sns\n",
    "from sklearn.preprocessing import OneHotEncoder\n",
    "from sklearn.preprocessing import LabelEncoder"
   ]
  },
  {
   "cell_type": "code",
   "execution_count": 3,
   "id": "3643912a-f09c-41f5-9d73-649d7d7d9183",
   "metadata": {},
   "outputs": [],
   "source": [
    "#Load the data"
   ]
  },
  {
   "cell_type": "code",
   "execution_count": 4,
   "id": "a64885d5-9958-466f-a45e-9c8f61fbcfb9",
   "metadata": {},
   "outputs": [],
   "source": [
    "frequency_domain_df = pd.read_csv('frequency_domain_features_train.csv')\n",
    "non_linear_df = pd.read_csv('heart_rate_non_linear_features_train.csv')\n",
    "time_domain_df = pd.read_csv('time_domain_features_train.csv')"
   ]
  },
  {
   "cell_type": "code",
   "execution_count": null,
   "id": "748c28c8-e3a3-4988-8527-039d99504792",
   "metadata": {},
   "outputs": [],
   "source": []
  }
 ],
 "metadata": {
  "kernelspec": {
   "display_name": "Python 3 (ipykernel)",
   "language": "python",
   "name": "python3"
  },
  "language_info": {
   "codemirror_mode": {
    "name": "ipython",
    "version": 3
   },
   "file_extension": ".py",
   "mimetype": "text/x-python",
   "name": "python",
   "nbconvert_exporter": "python",
   "pygments_lexer": "ipython3",
   "version": "3.12.3"
  }
 },
 "nbformat": 4,
 "nbformat_minor": 5
}
