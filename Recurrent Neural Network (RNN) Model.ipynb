{
 "cells": [
  {
   "cell_type": "code",
   "execution_count": 1,
   "id": "82a4a0f1-3205-4233-b4e0-5f17a256f241",
   "metadata": {},
   "outputs": [],
   "source": [
    "#Load Dataset"
   ]
  },
  {
   "cell_type": "code",
   "execution_count": 2,
   "id": "d1ab3824-138f-41c6-9b1f-8077f39b89c5",
   "metadata": {},
   "outputs": [],
   "source": [
    "import pandas as pd\n",
    "\n",
    "heart_rate_non_linear_train = pd.read_csv('heart_rate_non_linear_features_train.csv')\n",
    "time_domain_train = pd.read_csv('time_domain_features_train.csv')\n",
    "frequency_domain_train = pd.read_csv('frequency_domain_features_train.csv')"
   ]
  },
  {
   "cell_type": "code",
   "execution_count": 3,
   "id": "25d13be7-c9a9-4891-a255-0cbad512991f",
   "metadata": {},
   "outputs": [],
   "source": [
    "# Convert the 'datasetId' column in heart_rate_non_linear_train to string\n",
    "heart_rate_non_linear_train['datasetId'] = heart_rate_non_linear_train['datasetId'].astype(str)\n",
    "\n",
    "# First merge using 'datasetId' from heart_rate_non_linear_train and 'uuid' from time_domain_train\n",
    "train_data = pd.merge(heart_rate_non_linear_train, time_domain_train, left_on='datasetId', right_on='uuid', how='inner')"
   ]
  },
  {
   "cell_type": "code",
   "execution_count": 4,
   "id": "7f03aa22-41bf-4633-a096-b6ff4cbb05dc",
   "metadata": {},
   "outputs": [
    {
     "name": "stdout",
     "output_type": "stream",
     "text": [
      "Merged DataFrame shape after first merge: (0, 27)\n",
      "Columns in merged DataFrame after first merge: Index(['uuid_x', 'SD1', 'SD2', 'sampen', 'higuci', 'datasetId', 'condition',\n",
      "       'MEAN_RR', 'MEDIAN_RR', 'SDRR', 'RMSSD', 'SDSD', 'SDRR_RMSSD', 'HR',\n",
      "       'pNN25', 'pNN50', 'KURT', 'SKEW', 'MEAN_REL_RR', 'MEDIAN_REL_RR',\n",
      "       'SDRR_REL_RR', 'RMSSD_REL_RR', 'SDSD_REL_RR', 'SDRR_RMSSD_REL_RR',\n",
      "       'KURT_REL_RR', 'SKEW_REL_RR', 'uuid_y'],\n",
      "      dtype='object')\n",
      "Empty DataFrame\n",
      "Columns: [uuid_x, SD1, SD2, sampen, higuci, datasetId, condition, MEAN_RR, MEDIAN_RR, SDRR, RMSSD, SDSD, SDRR_RMSSD, HR, pNN25, pNN50, KURT, SKEW, MEAN_REL_RR, MEDIAN_REL_RR, SDRR_REL_RR, RMSSD_REL_RR, SDSD_REL_RR, SDRR_RMSSD_REL_RR, KURT_REL_RR, SKEW_REL_RR, uuid_y]\n",
      "Index: []\n",
      "\n",
      "[0 rows x 27 columns]\n"
     ]
    }
   ],
   "source": [
    "# Check merged DataFrame\n",
    "print(\"Merged DataFrame shape after first merge:\", train_data.shape)\n",
    "print(\"Columns in merged DataFrame after first merge:\", train_data.columns)\n",
    "print(train_data.head())  # Print first few rows "
   ]
  }
 ],
 "metadata": {
  "kernelspec": {
   "display_name": "Python 3 (ipykernel)",
   "language": "python",
   "name": "python3"
  },
  "language_info": {
   "codemirror_mode": {
    "name": "ipython",
    "version": 3
   },
   "file_extension": ".py",
   "mimetype": "text/x-python",
   "name": "python",
   "nbconvert_exporter": "python",
   "pygments_lexer": "ipython3",
   "version": "3.12.3"
  }
 },
 "nbformat": 4,
 "nbformat_minor": 5
}
